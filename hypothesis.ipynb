{
 "cells": [
  {
   "cell_type": "markdown",
   "metadata": {},
   "source": [
    "## INDIAN START-UP FUNDING ECOSYSTEM - HYPOTHESIS\n",
    "\n",
    "### Question 1. Does the stage(round/series) of a startup affect the amount of investment it receives?\n",
    "\n",
    "##### Null Hypothesis (H0): The stage of a startup does not significantly affect the amount of investment it receives.\n",
    "##### Alternate Hypothesis (H1): The stage of a startup significantly affects the amount of investment it receives.\n",
    "\n",
    "\n",
    "### Question 2. Does the headquarter location of a startup influence the amount of funding it receives?\n",
    "\n",
    "##### Null Hypothesis (H0): The headquarter location of a startup has significant influence on the amount of funding it receives.\n",
    "##### Alternate Hypothesis (H1): The headquarter location of a startup does not have significant influence on the amount of funding it receives.\n",
    "\n",
    "\n",
    "### Question 3: Which sectors attract the most funding, and how have these trends evolved over the 4 years?\n",
    "\n",
    "\n",
    "##### Null Hypothesis (H0): Fintech and Edtech sectors receive more funding than other sectors and the trend has been increasing from 2018 through to 2021.\n",
    "##### Alternate Hypothesis (H1): Fintech and Edtech sectors did not receive more funding compared to other sectors and the trend has been declining from 2018 through to 2021.\n",
    "\n",
    "\n",
    "### Question 4. Does the year in which a startup was founded impact its industry sector?\n",
    "\n",
    "##### Null Hypothesis (H0): The year in which a startup was founded does not significantly impact its industry sector.\n",
    "##### Alternate Hypothesis (H1): The year in which a startup was founded significantly impacts its industry sector.\n",
    "\n",
    "\n",
    "### Question 5: What is the overall funding trend for Indian startups from 2018 to 2021?\n",
    "\n",
    "##### Null Hypothesis (H0): Over the years the amount of funding has increased across the industries, and 2020 received the most funding.\n",
    "##### Alternate Hypothesis (H1): Over the years the amount of funding has decreased across the industries and 2020 received the least funding\n"
   ]
  },
  {
   "cell_type": "code",
   "execution_count": null,
   "metadata": {},
   "outputs": [],
   "source": []
  }
 ],
 "metadata": {
  "language_info": {
   "name": "python"
  }
 },
 "nbformat": 4,
 "nbformat_minor": 2
}
